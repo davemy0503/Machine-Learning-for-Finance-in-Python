{
 "cells": [
  {
   "cell_type": "code",
   "execution_count": 1,
   "metadata": {},
   "outputs": [],
   "source": [
    "import pandas as pd\n",
    "import numpy as np\n",
    "import matplotlib.pyplot as plt\n",
    "import seaborn as sns\n",
    "%matplotlib inline"
   ]
  },
  {
   "cell_type": "code",
   "execution_count": 2,
   "metadata": {},
   "outputs": [
    {
     "data": {
      "text/html": [
       "<div>\n",
       "<style scoped>\n",
       "    .dataframe tbody tr th:only-of-type {\n",
       "        vertical-align: middle;\n",
       "    }\n",
       "\n",
       "    .dataframe tbody tr th {\n",
       "        vertical-align: top;\n",
       "    }\n",
       "\n",
       "    .dataframe thead th {\n",
       "        text-align: right;\n",
       "    }\n",
       "</style>\n",
       "<table border=\"1\" class=\"dataframe\">\n",
       "  <thead>\n",
       "    <tr style=\"text-align: right;\">\n",
       "      <th></th>\n",
       "      <th>Adj_Close</th>\n",
       "      <th>Adj_Volume</th>\n",
       "      <th>5d_future_close</th>\n",
       "      <th>5d_close_future_pct</th>\n",
       "      <th>5d_close_pct</th>\n",
       "      <th>ma14</th>\n",
       "      <th>rsi14</th>\n",
       "      <th>ma30</th>\n",
       "      <th>rsi30</th>\n",
       "      <th>ma50</th>\n",
       "      <th>rsi50</th>\n",
       "      <th>ma200</th>\n",
       "      <th>rsi200</th>\n",
       "      <th>Adj_Volume_1d_change</th>\n",
       "      <th>Adj_Volume_1d_change_SMA</th>\n",
       "      <th>weekday_1</th>\n",
       "      <th>weekday_2</th>\n",
       "      <th>weekday_3</th>\n",
       "      <th>weekday_4</th>\n",
       "    </tr>\n",
       "    <tr>\n",
       "      <th>Date</th>\n",
       "      <th></th>\n",
       "      <th></th>\n",
       "      <th></th>\n",
       "      <th></th>\n",
       "      <th></th>\n",
       "      <th></th>\n",
       "      <th></th>\n",
       "      <th></th>\n",
       "      <th></th>\n",
       "      <th></th>\n",
       "      <th></th>\n",
       "      <th></th>\n",
       "      <th></th>\n",
       "      <th></th>\n",
       "      <th></th>\n",
       "      <th></th>\n",
       "      <th></th>\n",
       "      <th></th>\n",
       "      <th></th>\n",
       "    </tr>\n",
       "  </thead>\n",
       "  <tbody>\n",
       "    <tr>\n",
       "      <th>1995-08-11</th>\n",
       "      <td>42.00</td>\n",
       "      <td>0.0</td>\n",
       "      <td>42.00</td>\n",
       "      <td>0.000</td>\n",
       "      <td>0.166667</td>\n",
       "      <td>0.877551</td>\n",
       "      <td>99.835985</td>\n",
       "      <td>0.841667</td>\n",
       "      <td>97.042609</td>\n",
       "      <td>0.794286</td>\n",
       "      <td>89.026745</td>\n",
       "      <td>0.675536</td>\n",
       "      <td>46.999192</td>\n",
       "      <td>-1.000000</td>\n",
       "      <td>-1.000000</td>\n",
       "      <td>0</td>\n",
       "      <td>0</td>\n",
       "      <td>0</td>\n",
       "      <td>1</td>\n",
       "    </tr>\n",
       "    <tr>\n",
       "      <th>1995-10-23</th>\n",
       "      <td>39.00</td>\n",
       "      <td>0.0</td>\n",
       "      <td>39.00</td>\n",
       "      <td>0.000</td>\n",
       "      <td>-0.161290</td>\n",
       "      <td>1.115385</td>\n",
       "      <td>28.969562</td>\n",
       "      <td>1.094872</td>\n",
       "      <td>41.377227</td>\n",
       "      <td>1.087692</td>\n",
       "      <td>50.432460</td>\n",
       "      <td>0.851538</td>\n",
       "      <td>46.056387</td>\n",
       "      <td>-1.000000</td>\n",
       "      <td>-1.000000</td>\n",
       "      <td>0</td>\n",
       "      <td>0</td>\n",
       "      <td>0</td>\n",
       "      <td>0</td>\n",
       "    </tr>\n",
       "    <tr>\n",
       "      <th>1995-11-01</th>\n",
       "      <td>38.28</td>\n",
       "      <td>0.0</td>\n",
       "      <td>38.28</td>\n",
       "      <td>0.000</td>\n",
       "      <td>-0.018462</td>\n",
       "      <td>1.086095</td>\n",
       "      <td>25.992179</td>\n",
       "      <td>1.095925</td>\n",
       "      <td>38.638756</td>\n",
       "      <td>1.096426</td>\n",
       "      <td>47.971520</td>\n",
       "      <td>0.879710</td>\n",
       "      <td>45.790450</td>\n",
       "      <td>-1.000000</td>\n",
       "      <td>-1.000000</td>\n",
       "      <td>0</td>\n",
       "      <td>1</td>\n",
       "      <td>0</td>\n",
       "      <td>0</td>\n",
       "    </tr>\n",
       "    <tr>\n",
       "      <th>1995-11-13</th>\n",
       "      <td>48.00</td>\n",
       "      <td>0.0</td>\n",
       "      <td>42.00</td>\n",
       "      <td>-0.125</td>\n",
       "      <td>0.253918</td>\n",
       "      <td>0.830714</td>\n",
       "      <td>78.916200</td>\n",
       "      <td>0.866833</td>\n",
       "      <td>71.746827</td>\n",
       "      <td>0.870100</td>\n",
       "      <td>70.676817</td>\n",
       "      <td>0.714244</td>\n",
       "      <td>49.858929</td>\n",
       "      <td>-1.000000</td>\n",
       "      <td>-1.000000</td>\n",
       "      <td>0</td>\n",
       "      <td>0</td>\n",
       "      <td>0</td>\n",
       "      <td>0</td>\n",
       "    </tr>\n",
       "    <tr>\n",
       "      <th>1995-11-15</th>\n",
       "      <td>42.00</td>\n",
       "      <td>400.0</td>\n",
       "      <td>42.00</td>\n",
       "      <td>0.000</td>\n",
       "      <td>0.097179</td>\n",
       "      <td>0.964694</td>\n",
       "      <td>51.523891</td>\n",
       "      <td>0.993048</td>\n",
       "      <td>52.655408</td>\n",
       "      <td>0.995829</td>\n",
       "      <td>55.071995</td>\n",
       "      <td>0.820564</td>\n",
       "      <td>47.624751</td>\n",
       "      <td>-0.973333</td>\n",
       "      <td>-0.994667</td>\n",
       "      <td>0</td>\n",
       "      <td>1</td>\n",
       "      <td>0</td>\n",
       "      <td>0</td>\n",
       "    </tr>\n",
       "  </tbody>\n",
       "</table>\n",
       "</div>"
      ],
      "text/plain": [
       "            Adj_Close  Adj_Volume  5d_future_close  5d_close_future_pct  \\\n",
       "Date                                                                      \n",
       "1995-08-11      42.00         0.0            42.00                0.000   \n",
       "1995-10-23      39.00         0.0            39.00                0.000   \n",
       "1995-11-01      38.28         0.0            38.28                0.000   \n",
       "1995-11-13      48.00         0.0            42.00               -0.125   \n",
       "1995-11-15      42.00       400.0            42.00                0.000   \n",
       "\n",
       "            5d_close_pct      ma14      rsi14      ma30      rsi30      ma50  \\\n",
       "Date                                                                           \n",
       "1995-08-11      0.166667  0.877551  99.835985  0.841667  97.042609  0.794286   \n",
       "1995-10-23     -0.161290  1.115385  28.969562  1.094872  41.377227  1.087692   \n",
       "1995-11-01     -0.018462  1.086095  25.992179  1.095925  38.638756  1.096426   \n",
       "1995-11-13      0.253918  0.830714  78.916200  0.866833  71.746827  0.870100   \n",
       "1995-11-15      0.097179  0.964694  51.523891  0.993048  52.655408  0.995829   \n",
       "\n",
       "                rsi50     ma200     rsi200  Adj_Volume_1d_change  \\\n",
       "Date                                                               \n",
       "1995-08-11  89.026745  0.675536  46.999192             -1.000000   \n",
       "1995-10-23  50.432460  0.851538  46.056387             -1.000000   \n",
       "1995-11-01  47.971520  0.879710  45.790450             -1.000000   \n",
       "1995-11-13  70.676817  0.714244  49.858929             -1.000000   \n",
       "1995-11-15  55.071995  0.820564  47.624751             -0.973333   \n",
       "\n",
       "            Adj_Volume_1d_change_SMA  weekday_1  weekday_2  weekday_3  \\\n",
       "Date                                                                    \n",
       "1995-08-11                 -1.000000          0          0          0   \n",
       "1995-10-23                 -1.000000          0          0          0   \n",
       "1995-11-01                 -1.000000          0          1          0   \n",
       "1995-11-13                 -1.000000          0          0          0   \n",
       "1995-11-15                 -0.994667          0          1          0   \n",
       "\n",
       "            weekday_4  \n",
       "Date                   \n",
       "1995-08-11          1  \n",
       "1995-10-23          0  \n",
       "1995-11-01          0  \n",
       "1995-11-13          0  \n",
       "1995-11-15          0  "
      ]
     },
     "execution_count": 2,
     "metadata": {},
     "output_type": "execute_result"
    }
   ],
   "source": [
    "lng_df = pd.read_csv('lng_df.csv', parse_dates = ['Date'], index_col = 'Date')\n",
    "lng_df.head()"
   ]
  },
  {
   "cell_type": "code",
   "execution_count": 3,
   "metadata": {},
   "outputs": [],
   "source": [
    "features = lng_df.iloc[:300][['5d_close_pct', 'ma14', 'rsi14', 'ma30', 'rsi30', 'ma50', 'rsi50',\n",
    "       'ma200', 'rsi200', 'Adj_Volume_1d_change', 'Adj_Volume_1d_change_SMA',\n",
    "       'weekday_1', 'weekday_2', 'weekday_3', 'weekday_4']]\n",
    "targets = lng_df.iloc[:300]['5d_close_future_pct']"
   ]
  },
  {
   "cell_type": "code",
   "execution_count": 4,
   "metadata": {},
   "outputs": [],
   "source": [
    "train_size = int(0.85 * features.shape[0])\n",
    "train_features = features[:train_size]\n",
    "train_targets = targets[:train_size]\n",
    "test_features = features[train_size:]\n",
    "test_targets = targets[train_size:]"
   ]
  },
  {
   "cell_type": "code",
   "execution_count": 5,
   "metadata": {},
   "outputs": [],
   "source": [
    "from sklearn.preprocessing import scale\n",
    "\n",
    "# Remove unimportant features (weekdays)\n",
    "train_features = train_features.iloc[:, :-4]\n",
    "test_features = test_features.iloc[:, :-4]\n",
    "\n",
    "# Standardize the train and test features\n",
    "scaled_train_features = scale(train_features)\n",
    "scaled_test_features = scale(test_features)"
   ]
  },
  {
   "cell_type": "markdown",
   "metadata": {},
   "source": [
    "### Build and fit a simple neural net"
   ]
  },
  {
   "cell_type": "code",
   "execution_count": 6,
   "metadata": {},
   "outputs": [
    {
     "name": "stderr",
     "output_type": "stream",
     "text": [
      "Using TensorFlow backend.\n"
     ]
    },
    {
     "name": "stdout",
     "output_type": "stream",
     "text": [
      "WARNING:tensorflow:From /Users/huiren/anaconda3/envs/keras/lib/python3.6/site-packages/tensorflow/python/framework/op_def_library.py:263: colocate_with (from tensorflow.python.framework.ops) is deprecated and will be removed in a future version.\n",
      "Instructions for updating:\n",
      "Colocations handled automatically by placer.\n",
      "WARNING:tensorflow:From /Users/huiren/anaconda3/envs/keras/lib/python3.6/site-packages/tensorflow/python/ops/math_ops.py:3066: to_int32 (from tensorflow.python.ops.math_ops) is deprecated and will be removed in a future version.\n",
      "Instructions for updating:\n",
      "Use tf.cast instead.\n",
      "Epoch 1/25\n",
      "255/255 [==============================] - 0s 759us/step - loss: 0.0318\n",
      "Epoch 2/25\n",
      "255/255 [==============================] - 0s 64us/step - loss: 0.0151\n",
      "Epoch 3/25\n",
      "255/255 [==============================] - 0s 142us/step - loss: 0.0128\n",
      "Epoch 4/25\n",
      "255/255 [==============================] - 0s 105us/step - loss: 0.0111\n",
      "Epoch 5/25\n",
      "255/255 [==============================] - 0s 50us/step - loss: 0.0096\n",
      "Epoch 6/25\n",
      "255/255 [==============================] - 0s 53us/step - loss: 0.0090\n",
      "Epoch 7/25\n",
      "255/255 [==============================] - 0s 53us/step - loss: 0.0082\n",
      "Epoch 8/25\n",
      "255/255 [==============================] - 0s 56us/step - loss: 0.0072\n",
      "Epoch 9/25\n",
      "255/255 [==============================] - 0s 58us/step - loss: 0.0073\n",
      "Epoch 10/25\n",
      "255/255 [==============================] - 0s 88us/step - loss: 0.0068\n",
      "Epoch 11/25\n",
      "255/255 [==============================] - 0s 75us/step - loss: 0.0063\n",
      "Epoch 12/25\n",
      "255/255 [==============================] - 0s 63us/step - loss: 0.0060\n",
      "Epoch 13/25\n",
      "255/255 [==============================] - 0s 59us/step - loss: 0.0059\n",
      "Epoch 14/25\n",
      "255/255 [==============================] - 0s 43us/step - loss: 0.0057\n",
      "Epoch 15/25\n",
      "255/255 [==============================] - 0s 53us/step - loss: 0.0054\n",
      "Epoch 16/25\n",
      "255/255 [==============================] - 0s 94us/step - loss: 0.0053\n",
      "Epoch 17/25\n",
      "255/255 [==============================] - 0s 75us/step - loss: 0.0051\n",
      "Epoch 18/25\n",
      "255/255 [==============================] - 0s 53us/step - loss: 0.0051\n",
      "Epoch 19/25\n",
      "255/255 [==============================] - 0s 110us/step - loss: 0.0049\n",
      "Epoch 20/25\n",
      "255/255 [==============================] - 0s 62us/step - loss: 0.0047\n",
      "Epoch 21/25\n",
      "255/255 [==============================] - 0s 61us/step - loss: 0.0047\n",
      "Epoch 22/25\n",
      "255/255 [==============================] - 0s 60us/step - loss: 0.0044\n",
      "Epoch 23/25\n",
      "255/255 [==============================] - 0s 86us/step - loss: 0.0044\n",
      "Epoch 24/25\n",
      "255/255 [==============================] - 0s 58us/step - loss: 0.0043\n",
      "Epoch 25/25\n",
      "255/255 [==============================] - 0s 61us/step - loss: 0.0044\n"
     ]
    }
   ],
   "source": [
    "from keras.models import Sequential\n",
    "from keras.layers import Dense\n",
    "\n",
    "# Create the model\n",
    "model_1 = Sequential()\n",
    "model_1.add(Dense(100, input_dim=scaled_train_features.shape[1], activation='relu'))\n",
    "model_1.add(Dense(20, activation='relu'))\n",
    "model_1.add(Dense(1, activation='linear'))\n",
    "\n",
    "# Fit the model\n",
    "model_1.compile(optimizer='adam', loss='mse')\n",
    "history = model_1.fit(scaled_train_features, train_targets, epochs=25)"
   ]
  },
  {
   "cell_type": "markdown",
   "metadata": {},
   "source": [
    "### Plot losses"
   ]
  },
  {
   "cell_type": "code",
   "execution_count": 7,
   "metadata": {},
   "outputs": [
    {
     "data": {
      "image/png": "[encoded data removed]",
      "text/plain": [
       "<Figure size 432x288 with 1 Axes>"
      ]
     },
     "metadata": {
      "needs_background": "light"
     },
     "output_type": "display_data"
    },
    {
     "name": "stdout",
     "output_type": "stream",
     "text": [
      "            5d_close_pct      ma14      rsi14      ma30      rsi30      ma50  \\\n",
      "Date                                                                           \n",
      "1995-08-11      0.166667  0.877551  99.835985  0.841667  97.042609  0.794286   \n",
      "1995-10-23     -0.161290  1.115385  28.969562  1.094872  41.377227  1.087692   \n",
      "1995-11-01     -0.018462  1.086095  25.992179  1.095925  38.638756  1.096426   \n",
      "1995-11-13      0.253918  0.830714  78.916200  0.866833  71.746827  0.870100   \n",
      "1995-11-15      0.097179  0.964694  51.523891  0.993048  52.655408  0.995829   \n",
      "\n",
      "                rsi50     ma200     rsi200  Adj_Volume_1d_change  \\\n",
      "Date                                                               \n",
      "1995-08-11  89.026745  0.675536  46.999192             -1.000000   \n",
      "1995-10-23  50.432460  0.851538  46.056387             -1.000000   \n",
      "1995-11-01  47.971520  0.879710  45.790450             -1.000000   \n",
      "1995-11-13  70.676817  0.714244  49.858929             -1.000000   \n",
      "1995-11-15  55.071995  0.820564  47.624751             -0.973333   \n",
      "\n",
      "            Adj_Volume_1d_change_SMA  \n",
      "Date                                  \n",
      "1995-08-11                 -1.000000  \n",
      "1995-10-23                 -1.000000  \n",
      "1995-11-01                 -1.000000  \n",
      "1995-11-13                 -1.000000  \n",
      "1995-11-15                 -0.994667  \n"
     ]
    }
   ],
   "source": [
    "# Plot the losses from the fit\n",
    "plt.plot(history.history['loss'])\n",
    "\n",
    "# Use the last loss as the title\n",
    "plt.title('loss:' + str(round(history.history['loss'][-1], 6)))\n",
    "plt.show()\n",
    "\n",
    "print(train_features.head())"
   ]
  },
  {
   "cell_type": "markdown",
   "metadata": {},
   "source": [
    "### Measure performance"
   ]
  },
  {
   "cell_type": "code",
   "execution_count": 8,
   "metadata": {},
   "outputs": [
    {
     "name": "stdout",
     "output_type": "stream",
     "text": [
      "0.7061802066146529\n",
      "-0.926663762168104\n"
     ]
    },
    {
     "data": {
      "image/png": "[encoded data removed]",
      "text/plain": [
       "<Figure size 432x288 with 1 Axes>"
      ]
     },
     "metadata": {
      "needs_background": "light"
     },
     "output_type": "display_data"
    }
   ],
   "source": [
    "from sklearn.metrics import r2_score\n",
    "\n",
    "# Calculate R^2 score\n",
    "train_preds = model_1.predict(scaled_train_features)\n",
    "test_preds = model_1.predict(scaled_test_features)\n",
    "print(r2_score(train_targets, train_preds))\n",
    "print(r2_score(test_targets, test_preds))\n",
    "\n",
    "# Plot predictions vs actual\n",
    "plt.scatter(train_preds, train_targets, label='train')\n",
    "plt.scatter(test_preds, test_targets, label = 'test')\n",
    "plt.legend()\n",
    "plt.show()"
   ]
  },
  {
   "cell_type": "markdown",
   "metadata": {},
   "source": [
    "### Custom loss function"
   ]
  },
  {
   "cell_type": "code",
   "execution_count": 9,
   "metadata": {},
   "outputs": [
    {
     "name": "stdout",
     "output_type": "stream",
     "text": [
      "<function sign_penalty at 0x11c87f6a8>\n"
     ]
    }
   ],
   "source": [
    "import keras.losses\n",
    "import tensorflow as tf\n",
    "\n",
    "# Create loss function\n",
    "def sign_penalty(y_true, y_pred):\n",
    "    penalty = 100.\n",
    "    loss = tf.where(tf.less(y_true * y_pred, 0), \\\n",
    "                     penalty * tf.square(y_true - y_pred), \\\n",
    "                     tf.square(y_true - y_pred))\n",
    "\n",
    "    return tf.reduce_mean(loss, axis=-1)\n",
    "\n",
    "keras.losses.sign_penalty = sign_penalty  # enable use of loss with keras\n",
    "print(keras.losses.sign_penalty)"
   ]
  },
  {
   "cell_type": "markdown",
   "metadata": {},
   "source": [
    "### Fit neural net with custom loss function"
   ]
  },
  {
   "cell_type": "code",
   "execution_count": 10,
   "metadata": {},
   "outputs": [
    {
     "name": "stdout",
     "output_type": "stream",
     "text": [
      "Epoch 1/25\n",
      "255/255 [==============================] - 0s 877us/step - loss: 28.9017\n",
      "Epoch 2/25\n",
      "255/255 [==============================] - 0s 33us/step - loss: 5.4733\n",
      "Epoch 3/25\n",
      "255/255 [==============================] - 0s 65us/step - loss: 2.4425\n",
      "Epoch 4/25\n",
      "255/255 [==============================] - 0s 45us/step - loss: 2.6136\n",
      "Epoch 5/25\n",
      "255/255 [==============================] - 0s 59us/step - loss: 1.8792\n",
      "Epoch 6/25\n",
      "255/255 [==============================] - 0s 77us/step - loss: 1.3537\n",
      "Epoch 7/25\n",
      "255/255 [==============================] - 0s 88us/step - loss: 0.7954\n",
      "Epoch 8/25\n",
      "255/255 [==============================] - 0s 46us/step - loss: 0.7082\n",
      "Epoch 9/25\n",
      "255/255 [==============================] - 0s 46us/step - loss: 0.7046\n",
      "Epoch 10/25\n",
      "255/255 [==============================] - 0s 41us/step - loss: 0.6126\n",
      "Epoch 11/25\n",
      "255/255 [==============================] - 0s 43us/step - loss: 0.5823\n",
      "Epoch 12/25\n",
      "255/255 [==============================] - 0s 38us/step - loss: 0.4878\n",
      "Epoch 13/25\n",
      "255/255 [==============================] - 0s 66us/step - loss: 0.5023\n",
      "Epoch 14/25\n",
      "255/255 [==============================] - 0s 48us/step - loss: 0.4866\n",
      "Epoch 15/25\n",
      "255/255 [==============================] - 0s 30us/step - loss: 0.6332\n",
      "Epoch 16/25\n",
      "255/255 [==============================] - 0s 32us/step - loss: 0.4565\n",
      "Epoch 17/25\n",
      "255/255 [==============================] - 0s 29us/step - loss: 0.3931\n",
      "Epoch 18/25\n",
      "255/255 [==============================] - 0s 39us/step - loss: 0.3908\n",
      "Epoch 19/25\n",
      "255/255 [==============================] - 0s 31us/step - loss: 0.4135\n",
      "Epoch 20/25\n",
      "255/255 [==============================] - 0s 31us/step - loss: 0.2661\n",
      "Epoch 21/25\n",
      "255/255 [==============================] - 0s 30us/step - loss: 0.2891\n",
      "Epoch 22/25\n",
      "255/255 [==============================] - 0s 38us/step - loss: 0.3038\n",
      "Epoch 23/25\n",
      "255/255 [==============================] - 0s 48us/step - loss: 0.3135\n",
      "Epoch 24/25\n",
      "255/255 [==============================] - 0s 50us/step - loss: 0.2367\n",
      "Epoch 25/25\n",
      "255/255 [==============================] - 0s 47us/step - loss: 0.2107\n"
     ]
    },
    {
     "data": {
      "image/png": "[encoded data removed]",
      "text/plain": [
       "<Figure size 432x288 with 1 Axes>"
      ]
     },
     "metadata": {
      "needs_background": "light"
     },
     "output_type": "display_data"
    }
   ],
   "source": [
    "# Create the model\n",
    "model_2 = Sequential()\n",
    "model_2.add(Dense(100, input_dim=scaled_train_features.shape[1], activation='relu'))\n",
    "model_2.add(Dense(20, activation='relu'))\n",
    "model_2.add(Dense(1, activation='linear'))\n",
    "\n",
    "# Fit the model with our custom 'sign_penalty' loss function\n",
    "model_2.compile(optimizer='adam', loss=sign_penalty)\n",
    "history = model_2.fit(scaled_train_features, train_targets, epochs=25)\n",
    "plt.plot(history.history['loss'])\n",
    "plt.title('loss:' + str(round(history.history['loss'][-1], 6)))\n",
    "plt.show()"
   ]
  },
  {
   "cell_type": "markdown",
   "metadata": {},
   "source": [
    "### Visualize the results"
   ]
  },
  {
   "cell_type": "code",
   "execution_count": 11,
   "metadata": {},
   "outputs": [
    {
     "name": "stdout",
     "output_type": "stream",
     "text": [
      "0.05913836725614818\n",
      "-1.6515963637494595\n"
     ]
    },
    {
     "data": {
      "image/png": "[encoded data removed]",
      "text/plain": [
       "<Figure size 432x288 with 1 Axes>"
      ]
     },
     "metadata": {
      "needs_background": "light"
     },
     "output_type": "display_data"
    }
   ],
   "source": [
    "from sklearn.metrics import r2_score \n",
    "# Evaluate R^2 scores\n",
    "train_preds = model_2.predict(scaled_train_features)\n",
    "test_preds = model_2.predict(scaled_test_features)\n",
    "print(r2_score(train_targets, train_preds))\n",
    "print(r2_score(test_targets, test_preds))\n",
    "\n",
    "# Scatter the predictions vs actual -- this one is interesting!\n",
    "plt.scatter(train_preds, train_targets, label='train')\n",
    "plt.scatter(test_preds, test_targets, label = 'test')  # plot test set\n",
    "plt.legend(); plt.show()"
   ]
  },
  {
   "cell_type": "markdown",
   "metadata": {},
   "source": [
    "### Combatting overfitting with dropout"
   ]
  },
  {
   "cell_type": "code",
   "execution_count": 12,
   "metadata": {},
   "outputs": [
    {
     "name": "stdout",
     "output_type": "stream",
     "text": [
      "WARNING:tensorflow:From /Users/huiren/anaconda3/envs/keras/lib/python3.6/site-packages/keras/backend/tensorflow_backend.py:3445: calling dropout (from tensorflow.python.ops.nn_ops) with keep_prob is deprecated and will be removed in a future version.\n",
      "Instructions for updating:\n",
      "Please use `rate` instead of `keep_prob`. Rate should be set to `rate = 1 - keep_prob`.\n",
      "Epoch 1/25\n",
      "255/255 [==============================] - 0s 1ms/step - loss: 0.0781\n",
      "Epoch 2/25\n",
      "255/255 [==============================] - 0s 65us/step - loss: 0.0364\n",
      "Epoch 3/25\n",
      "255/255 [==============================] - 0s 71us/step - loss: 0.0313\n",
      "Epoch 4/25\n",
      "255/255 [==============================] - 0s 64us/step - loss: 0.0370\n",
      "Epoch 5/25\n",
      "255/255 [==============================] - 0s 74us/step - loss: 0.0249\n",
      "Epoch 6/25\n",
      "255/255 [==============================] - 0s 69us/step - loss: 0.0235\n",
      "Epoch 7/25\n",
      "255/255 [==============================] - 0s 67us/step - loss: 0.0232\n",
      "Epoch 8/25\n",
      "255/255 [==============================] - 0s 66us/step - loss: 0.0192\n",
      "Epoch 9/25\n",
      "255/255 [==============================] - 0s 63us/step - loss: 0.0231\n",
      "Epoch 10/25\n",
      "255/255 [==============================] - 0s 89us/step - loss: 0.0192\n",
      "Epoch 11/25\n",
      "255/255 [==============================] - 0s 67us/step - loss: 0.0151\n",
      "Epoch 12/25\n",
      "255/255 [==============================] - 0s 65us/step - loss: 0.0163\n",
      "Epoch 13/25\n",
      "255/255 [==============================] - 0s 111us/step - loss: 0.0167\n",
      "Epoch 14/25\n",
      "255/255 [==============================] - 0s 51us/step - loss: 0.0196\n",
      "Epoch 15/25\n",
      "255/255 [==============================] - 0s 58us/step - loss: 0.0184\n",
      "Epoch 16/25\n",
      "255/255 [==============================] - 0s 58us/step - loss: 0.0140\n",
      "Epoch 17/25\n",
      "255/255 [==============================] - 0s 61us/step - loss: 0.0137\n",
      "Epoch 18/25\n",
      "255/255 [==============================] - 0s 63us/step - loss: 0.0159\n",
      "Epoch 19/25\n",
      "255/255 [==============================] - 0s 64us/step - loss: 0.0154\n",
      "Epoch 20/25\n",
      "255/255 [==============================] - 0s 56us/step - loss: 0.0131\n",
      "Epoch 21/25\n",
      "255/255 [==============================] - 0s 68us/step - loss: 0.0128\n",
      "Epoch 22/25\n",
      "255/255 [==============================] - 0s 60us/step - loss: 0.0138\n",
      "Epoch 23/25\n",
      "255/255 [==============================] - 0s 61us/step - loss: 0.0111\n",
      "Epoch 24/25\n",
      "255/255 [==============================] - 0s 87us/step - loss: 0.0147\n",
      "Epoch 25/25\n",
      "255/255 [==============================] - 0s 70us/step - loss: 0.0137\n"
     ]
    },
    {
     "data": {
      "image/png": "[encoded data removed]",
      "text/plain": [
       "<Figure size 432x288 with 1 Axes>"
      ]
     },
     "metadata": {
      "needs_background": "light"
     },
     "output_type": "display_data"
    }
   ],
   "source": [
    "from keras.layers import Dropout\n",
    "\n",
    "# Create model with dropout\n",
    "model_3 = Sequential()\n",
    "model_3.add(Dense(100, input_dim=scaled_train_features.shape[1], activation='relu'))\n",
    "model_3.add(Dropout(0.2))\n",
    "model_3.add(Dense(20, activation='relu'))\n",
    "model_3.add(Dense(1, activation='linear'))\n",
    "\n",
    "# Fit model with mean squared error loss function\n",
    "model_3.compile(optimizer='adam', loss='mse')\n",
    "history = model_3.fit(scaled_train_features, train_targets, epochs=25)\n",
    "plt.plot(history.history['loss'])\n",
    "plt.title('loss:' + str(round(history.history['loss'][-1], 6)))\n",
    "plt.show()"
   ]
  },
  {
   "cell_type": "markdown",
   "metadata": {},
   "source": [
    "### Ensembling models"
   ]
  },
  {
   "cell_type": "code",
   "execution_count": 13,
   "metadata": {},
   "outputs": [
    {
     "name": "stdout",
     "output_type": "stream",
     "text": [
      "[-0.02008648  0.00833327 -0.01466291  0.00387256 -0.04243005]\n"
     ]
    }
   ],
   "source": [
    "# Make predictions from the 3 neural net models\n",
    "train_pred1 = model_1.predict(scaled_train_features)\n",
    "test_pred1 = model_1.predict(scaled_test_features)\n",
    "\n",
    "train_pred2 = model_2.predict(scaled_train_features)\n",
    "test_pred2 = model_2.predict(scaled_test_features)\n",
    "\n",
    "train_pred3 = model_3.predict(scaled_train_features)\n",
    "test_pred3 = model_3.predict(scaled_test_features)\n",
    "\n",
    "# Horizontally stack predictions and take the average across rows\n",
    "train_preds = np.mean(np.hstack((train_pred1, train_pred2, train_pred3)), axis=1)\n",
    "test_preds = np.mean(np.hstack((test_pred1, test_pred2, test_pred3)), axis = 1)\n",
    "print(test_preds[-5:])"
   ]
  },
  {
   "cell_type": "markdown",
   "metadata": {},
   "source": [
    "### See how the ensemble performed"
   ]
  },
  {
   "cell_type": "code",
   "execution_count": 14,
   "metadata": {},
   "outputs": [
    {
     "name": "stdout",
     "output_type": "stream",
     "text": [
      "0.5044592510500423\n",
      "-0.34666180236995126\n"
     ]
    },
    {
     "data": {
      "image/png": "[encoded data removed]",
      "text/plain": [
       "<Figure size 432x288 with 1 Axes>"
      ]
     },
     "metadata": {
      "needs_background": "light"
     },
     "output_type": "display_data"
    }
   ],
   "source": [
    "from sklearn.metrics import r2_score\n",
    "\n",
    "# Evaluate the R^2 scores\n",
    "print(r2_score(train_targets, train_preds))\n",
    "print(r2_score(test_targets, test_preds))\n",
    "\n",
    "# Scatter the predictions vs actual -- this one is interesting!\n",
    "plt.scatter(train_preds, train_targets, label = 'train')\n",
    "plt.scatter(test_preds, test_targets, label='test')\n",
    "plt.legend(); plt.show()"
   ]
  },
  {
   "cell_type": "markdown",
   "metadata": {},
   "source": [
    "## Machine learning with modern portfolio theory"
   ]
  },
  {
   "cell_type": "markdown",
   "metadata": {},
   "source": [
    "### Join stock DataFrames and calculate returns"
   ]
  },
  {
   "cell_type": "code",
   "execution_count": 15,
   "metadata": {},
   "outputs": [],
   "source": [
    "lng = pd.read_csv('LNG.csv', parse_dates = ['Date'], index_col='Date')\n",
    "\n",
    "lng = lng.drop('Adj_Volume', axis = 1)\n",
    "spy = pd.read_csv('SPY.csv', parse_dates = ['Date'], index_col='Date')\n",
    "spy = spy.drop('Adj_Volume', axis = 1)\n",
    "smlv = pd.read_csv('SMLV.csv', parse_dates = ['Date'], index_col='Date')\n",
    "smlv = smlv.drop('Adj_Volume', axis = 1)\n"
   ]
  },
  {
   "cell_type": "code",
   "execution_count": 16,
   "metadata": {},
   "outputs": [
    {
     "data": {
      "text/html": [
       "<div>\n",
       "<style scoped>\n",
       "    .dataframe tbody tr th:only-of-type {\n",
       "        vertical-align: middle;\n",
       "    }\n",
       "\n",
       "    .dataframe tbody tr th {\n",
       "        vertical-align: top;\n",
       "    }\n",
       "\n",
       "    .dataframe thead th {\n",
       "        text-align: right;\n",
       "    }\n",
       "</style>\n",
       "<table border=\"1\" class=\"dataframe\">\n",
       "  <thead>\n",
       "    <tr style=\"text-align: right;\">\n",
       "      <th></th>\n",
       "      <th>LNG</th>\n",
       "      <th>SPY</th>\n",
       "      <th>SMLV</th>\n",
       "    </tr>\n",
       "    <tr>\n",
       "      <th>Date</th>\n",
       "      <th></th>\n",
       "      <th></th>\n",
       "      <th></th>\n",
       "    </tr>\n",
       "  </thead>\n",
       "  <tbody>\n",
       "    <tr>\n",
       "      <th>2017-12-01</th>\n",
       "      <td>0.019558</td>\n",
       "      <td>0.027069</td>\n",
       "      <td>0.029058</td>\n",
       "    </tr>\n",
       "    <tr>\n",
       "      <th>2018-01-01</th>\n",
       "      <td>0.128300</td>\n",
       "      <td>0.021450</td>\n",
       "      <td>-0.010725</td>\n",
       "    </tr>\n",
       "    <tr>\n",
       "      <th>2018-02-01</th>\n",
       "      <td>0.057770</td>\n",
       "      <td>0.047662</td>\n",
       "      <td>-0.003823</td>\n",
       "    </tr>\n",
       "    <tr>\n",
       "      <th>2018-03-01</th>\n",
       "      <td>-0.103353</td>\n",
       "      <td>-0.049293</td>\n",
       "      <td>-0.048131</td>\n",
       "    </tr>\n",
       "    <tr>\n",
       "      <th>2018-04-02</th>\n",
       "      <td>0.021396</td>\n",
       "      <td>-0.034367</td>\n",
       "      <td>0.009406</td>\n",
       "    </tr>\n",
       "  </tbody>\n",
       "</table>\n",
       "</div>"
      ],
      "text/plain": [
       "                 LNG       SPY      SMLV\n",
       "Date                                    \n",
       "2017-12-01  0.019558  0.027069  0.029058\n",
       "2018-01-01  0.128300  0.021450 -0.010725\n",
       "2018-02-01  0.057770  0.047662 -0.003823\n",
       "2018-03-01 -0.103353 -0.049293 -0.048131\n",
       "2018-04-02  0.021396 -0.034367  0.009406"
      ]
     },
     "execution_count": 16,
     "metadata": {},
     "output_type": "execute_result"
    }
   ],
   "source": [
    "# Join 3 stock dataframes together\n",
    "full_df = pd.concat([lng, spy, smlv], axis=1).dropna()\n",
    "\n",
    "full_df.columns = ['LNG', 'SPY', 'SMLV']\n",
    "\n",
    "# Resample the full dataframe to monthly timeframe\n",
    "monthly_df = full_df.resample('BMS').first()\n",
    "\n",
    "# Calculate daily returns of stocks\n",
    "returns_daily = full_df.pct_change()\n",
    "\n",
    "# Calculate monthly returns of the stocks\n",
    "returns_monthly = monthly_df.pct_change().dropna()\n",
    "returns_monthly.tail()"
   ]
  },
  {
   "cell_type": "markdown",
   "metadata": {},
   "source": [
    "### Calculate covariances for volatility"
   ]
  },
  {
   "cell_type": "code",
   "execution_count": 17,
   "metadata": {},
   "outputs": [
    {
     "name": "stdout",
     "output_type": "stream",
     "text": [
      "           LNG       SPY      SMLV\n",
      "LNG   0.000366  0.000192  0.000146\n",
      "SPY   0.000192  0.000173  0.000127\n",
      "SMLV  0.000146  0.000127  0.000103\n"
     ]
    }
   ],
   "source": [
    "# Daily covariance of stocks (for each monthly period)\n",
    "covariances = {}\n",
    "rtd_idx = returns_daily.index\n",
    "for i in returns_monthly.index:    \n",
    "    # Mask daily returns for each month and year, and calculate covariance\n",
    "    mask = (rtd_idx.month == i.month) & (rtd_idx.year == i.year)\n",
    "    \n",
    "    # Use the mask to get daily returns for the current month and year of monthy returns index\n",
    "    covariances[i] = returns_daily[mask].cov()\n",
    "\n",
    "print(covariances[i])"
   ]
  },
  {
   "cell_type": "markdown",
   "metadata": {},
   "source": [
    "### Calculate portfolios"
   ]
  },
  {
   "cell_type": "code",
   "execution_count": 18,
   "metadata": {},
   "outputs": [
    {
     "name": "stdout",
     "output_type": "stream",
     "text": [
      "[0.37118561 0.27314167 0.35567272]\n"
     ]
    }
   ],
   "source": [
    "portfolio_returns, portfolio_volatility, portfolio_weights = {}, {}, {}\n",
    "\n",
    "# Get portfolio performances at each month\n",
    "for date in sorted(covariances.keys()):\n",
    "    cov = covariances[date]\n",
    "    for portfolio in range(10):\n",
    "        weights = np.random.random(3)\n",
    "        weights /= np.sum(weights) # /= divides weights by their sum to normalize\n",
    "        returns = np.dot(weights, returns_monthly.loc[date])\n",
    "        volatility = np.sqrt(np.dot(weights.T, np.dot(cov, weights)))\n",
    "        portfolio_returns.setdefault(date, []).append(returns)\n",
    "        portfolio_volatility.setdefault(date, []).append(volatility)\n",
    "        portfolio_weights.setdefault(date, []).append(weights)\n",
    "        \n",
    "print(portfolio_weights[date][0])"
   ]
  },
  {
   "cell_type": "markdown",
   "metadata": {},
   "source": [
    "### Plot efficient frontier"
   ]
  },
  {
   "cell_type": "code",
   "execution_count": 19,
   "metadata": {},
   "outputs": [
    {
     "data": {
      "image/png": "[encoded data removed]",
      "text/plain": [
       "<Figure size 432x288 with 1 Axes>"
      ]
     },
     "metadata": {
      "needs_background": "light"
     },
     "output_type": "display_data"
    }
   ],
   "source": [
    "# Get latest date of available data\n",
    "date = sorted(covariances.keys())[-1]  \n",
    "\n",
    "# Plot efficient frontier\n",
    "# warning: this can take at least 10s for the plot to execute...\n",
    "plt.scatter(x=portfolio_volatility[date], y=portfolio_returns[date],  alpha=0.6)\n",
    "plt.xlabel('Volatility')\n",
    "plt.ylabel('Returns')\n",
    "plt.show()"
   ]
  },
  {
   "cell_type": "markdown",
   "metadata": {},
   "source": [
    "### Get best Sharpe ratios"
   ]
  },
  {
   "cell_type": "code",
   "execution_count": 20,
   "metadata": {},
   "outputs": [
    {
     "name": "stdout",
     "output_type": "stream",
     "text": [
      "0.012405284730390773\n"
     ]
    }
   ],
   "source": [
    "# Empty dictionaries for sharpe ratios and best sharpe indexes by date\n",
    "sharpe_ratio, max_sharpe_idxs = {}, {}\n",
    "\n",
    "# Loop through dates and get sharpe ratio for each portfolio\n",
    "for date in portfolio_returns.keys():\n",
    "    for i, ret in enumerate(portfolio_returns[date]):\n",
    "    \n",
    "        # Divide returns by the volatility for the date and index, i\n",
    "        sharpe_ratio.setdefault(date, []).append(ret / portfolio_volatility[date][i])\n",
    "\n",
    "    # Get the index of the best sharpe ratio for each date\n",
    "    max_sharpe_idxs[date] = np.argmax(sharpe_ratio[date])\n",
    "\n",
    "print(portfolio_returns[date][max_sharpe_idxs[date]])"
   ]
  },
  {
   "cell_type": "markdown",
   "metadata": {},
   "source": [
    "### Calculate EWMAs"
   ]
  },
  {
   "cell_type": "code",
   "execution_count": 21,
   "metadata": {},
   "outputs": [
    {
     "name": "stdout",
     "output_type": "stream",
     "text": [
      "LNG    -0.004304\n",
      "SPY    -0.001003\n",
      "SMLV   -0.001670\n",
      "Name: 2018-04-02 00:00:00, dtype: float64\n"
     ]
    }
   ],
   "source": [
    "# Calculate exponentially-weighted moving average of daily returns\n",
    "ewma_daily = returns_daily.ewm(span=30).mean()\n",
    "\n",
    "# Resample daily returns to first business day of the month with the first day for that month\n",
    "ewma_monthly = ewma_daily.resample('BMS').first()\n",
    "\n",
    "# Shift ewma for the month by 1 month forward so we can use it as a feature for future predictions \n",
    "ewma_monthly = ewma_monthly.shift(1).dropna()\n",
    "\n",
    "print(ewma_monthly.iloc[-1])"
   ]
  },
  {
   "cell_type": "markdown",
   "metadata": {},
   "source": [
    "### Make features and targets"
   ]
  },
  {
   "cell_type": "code",
   "execution_count": 22,
   "metadata": {},
   "outputs": [
    {
     "name": "stdout",
     "output_type": "stream",
     "text": [
      "[[0.00629488 0.82542375 0.16828137]\n",
      " [0.44294833 0.39917275 0.15787892]\n",
      " [0.45855519 0.48282377 0.05862104]\n",
      " [0.16623506 0.41731379 0.41645115]\n",
      " [0.47013883 0.06024844 0.46961273]]\n"
     ]
    }
   ],
   "source": [
    "targets, features = [], []\n",
    "\n",
    "# Create features from price history and targets as ideal portfolio\n",
    "for date, ewma in ewma_monthly.iterrows():\n",
    "\n",
    "    # Get the index of the best sharpe ratio\n",
    "    best_idx = max_sharpe_idxs[date]\n",
    "    targets.append(portfolio_weights[date][best_idx])\n",
    "    features.append(ewma)  # add ewma to features\n",
    "\n",
    "targets = np.array(targets)\n",
    "features = np.array(features)\n",
    "print(targets[-5:])"
   ]
  },
  {
   "cell_type": "markdown",
   "metadata": {},
   "source": [
    "### Plot efficient frontier with best Sharpe ratio"
   ]
  },
  {
   "cell_type": "code",
   "execution_count": 23,
   "metadata": {},
   "outputs": [
    {
     "data": {
      "image/png": "[encoded data removed]",
      "text/plain": [
       "<Figure size 432x288 with 1 Axes>"
      ]
     },
     "metadata": {
      "needs_background": "light"
     },
     "output_type": "display_data"
    }
   ],
   "source": [
    "# Get most recent (current) returns and volatility\n",
    "date = sorted(covariances.keys())[-1]\n",
    "cur_returns = portfolio_returns[date]\n",
    "cur_volatility = portfolio_volatility[date]\n",
    "\n",
    "# Plot efficient frontier with sharpe as point\n",
    "plt.scatter(x=cur_volatility, y=cur_returns, alpha=0.6, color='blue')\n",
    "best_idx = max_sharpe_idxs[date]\n",
    "\n",
    "# Place an orange \"X\" on the point with the best Sharpe ratio\n",
    "plt.scatter(x=cur_volatility[best_idx], y=cur_returns[best_idx], marker='x', color='orange')\n",
    "plt.xlabel('Volatility')\n",
    "plt.ylabel('Returns')\n",
    "plt.show()"
   ]
  },
  {
   "cell_type": "markdown",
   "metadata": {},
   "source": [
    "### Make predictions with a random forest"
   ]
  },
  {
   "cell_type": "code",
   "execution_count": 24,
   "metadata": {},
   "outputs": [
    {
     "name": "stdout",
     "output_type": "stream",
     "text": [
      "0.8351391557745027\n",
      "-0.11952215407856814\n"
     ]
    },
    {
     "name": "stderr",
     "output_type": "stream",
     "text": [
      "/Users/huiren/anaconda3/envs/keras/lib/python3.6/site-packages/sklearn/base.py:420: FutureWarning: The default value of multioutput (not exposed in score method) will change from 'variance_weighted' to 'uniform_average' in 0.23 to keep consistent with 'metrics.r2_score'. To specify the default value manually and avoid the warning, please either call 'metrics.r2_score' directly or make a custom scorer with 'metrics.make_scorer' (the built-in scorer 'r2' uses multioutput='uniform_average').\n",
      "  \"multioutput='uniform_average').\", FutureWarning)\n",
      "/Users/huiren/anaconda3/envs/keras/lib/python3.6/site-packages/sklearn/base.py:420: FutureWarning: The default value of multioutput (not exposed in score method) will change from 'variance_weighted' to 'uniform_average' in 0.23 to keep consistent with 'metrics.r2_score'. To specify the default value manually and avoid the warning, please either call 'metrics.r2_score' directly or make a custom scorer with 'metrics.make_scorer' (the built-in scorer 'r2' uses multioutput='uniform_average').\n",
      "  \"multioutput='uniform_average').\", FutureWarning)\n"
     ]
    }
   ],
   "source": [
    "from sklearn.ensemble import RandomForestRegressor\n",
    "# Make train and test features\n",
    "train_size = int(0.85 * features.shape[0])\n",
    "train_features = features[:train_size]\n",
    "test_features = features[train_size:]\n",
    "train_targets = targets[:train_size]\n",
    "test_targets = targets[train_size:]\n",
    "\n",
    "# Fit the model and check scores on train and test\n",
    "rfr = RandomForestRegressor(n_estimators=300, random_state=42)\n",
    "rfr.fit(train_features, train_targets)\n",
    "print(rfr.score(train_features, train_targets))\n",
    "print(rfr.score(test_features, test_targets))"
   ]
  },
  {
   "cell_type": "markdown",
   "metadata": {},
   "source": [
    "### Get predictions and first evaluation"
   ]
  },
  {
   "cell_type": "code",
   "execution_count": 25,
   "metadata": {},
   "outputs": [
    {
     "name": "stderr",
     "output_type": "stream",
     "text": [
      "/Users/huiren/anaconda3/envs/keras/lib/python3.6/site-packages/pandas/plotting/_converter.py:129: FutureWarning: Using an implicitly registered datetime converter for a matplotlib plotting method. The converter was registered by pandas on import. Future versions of pandas will require you to explicitly register matplotlib converters.\n",
      "\n",
      "To register the converters:\n",
      "\t>>> from pandas.plotting import register_matplotlib_converters\n",
      "\t>>> register_matplotlib_converters()\n",
      "  warnings.warn(msg, FutureWarning)\n"
     ]
    },
    {
     "data": {
      "image/png": "[encoded data removed]",
      "text/plain": [
       "<Figure size 432x288 with 1 Axes>"
      ]
     },
     "metadata": {
      "needs_background": "light"
     },
     "output_type": "display_data"
    }
   ],
   "source": [
    "# Get predictions from model on train and test\n",
    "train_predictions = rfr.predict(train_features)\n",
    "test_predictions = rfr.predict(test_features)\n",
    "\n",
    "# Calculate and plot returns from our RF predictions and the SPY returns\n",
    "test_returns = np.sum(returns_monthly.iloc[train_size:] * test_predictions, axis=1)\n",
    "plt.plot(test_returns, label='algo')\n",
    "plt.plot(returns_monthly['SPY'].iloc[train_size:], label='SPY')\n",
    "plt.legend()\n",
    "plt.show()"
   ]
  },
  {
   "cell_type": "markdown",
   "metadata": {},
   "source": [
    "### Evaluate returns"
   ]
  },
  {
   "cell_type": "code",
   "execution_count": 26,
   "metadata": {},
   "outputs": [
    {
     "name": "stdout",
     "output_type": "stream",
     "text": [
      "algo returns: 0.09334039695631419\n",
      "SPY returns: 0.07811831329855999\n"
     ]
    }
   ],
   "source": [
    "# Calculate the effect of our portfolio selection on a hypothetical $1k investment\n",
    "cash = 1000\n",
    "algo_cash, spy_cash = [cash], [cash]  # set equal starting cash amounts\n",
    "for r in test_returns:\n",
    "    cash *= 1 + r\n",
    "    algo_cash.append(cash)\n",
    "\n",
    "# Calculate performance for SPY\n",
    "cash = 1000  # reset cash amount\n",
    "for r in returns_monthly['SPY'].iloc[train_size:]:\n",
    "    cash *= 1 + r\n",
    "    spy_cash.append(cash)\n",
    "\n",
    "print('algo returns:', (algo_cash[-1] - algo_cash[0]) / algo_cash[0])\n",
    "print('SPY returns:', (spy_cash[-1] - spy_cash[0]) / spy_cash[0])"
   ]
  },
  {
   "cell_type": "markdown",
   "metadata": {},
   "source": [
    "### Plot returns"
   ]
  },
  {
   "cell_type": "code",
   "execution_count": 27,
   "metadata": {},
   "outputs": [
    {
     "data": {
      "image/png": "[encoded data removed]",
      "text/plain": [
       "<Figure size 432x288 with 1 Axes>"
      ]
     },
     "metadata": {
      "needs_background": "light"
     },
     "output_type": "display_data"
    }
   ],
   "source": [
    "# Plot the algo_cash and spy_cash to compare overall returns\n",
    "plt.plot(algo_cash, label = 'ALGO')\n",
    "plt.plot(spy_cash, label='SPY')\n",
    "plt.legend() # show the legend\n",
    "plt.show()"
   ]
  }
 ],
 "metadata": {
  "kernelspec": {
   "display_name": "Python 3",
   "language": "python",
   "name": "python3"
  },
  "language_info": {
   "codemirror_mode": {
    "name": "ipython",
    "version": 3
   },
   "file_extension": ".py",
   "mimetype": "text/x-python",
   "name": "python",
   "nbconvert_exporter": "python",
   "pygments_lexer": "ipython3",
   "version": "3.6.7"
  }
 },
 "nbformat": 4,
 "nbformat_minor": 2
}
